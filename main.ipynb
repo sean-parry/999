{
 "cells": [
  {
   "cell_type": "code",
   "execution_count": null,
   "metadata": {},
   "outputs": [],
   "source": [
    "!pip install numpy\n",
    "!pip install matplotlib"
   ]
  },
  {
   "cell_type": "code",
   "execution_count": null,
   "metadata": {},
   "outputs": [
    {
     "name": "stdout",
     "output_type": "stream",
     "text": [
      "729\n"
     ]
    }
   ],
   "source": [
    "n = 9\n",
    "print(9*9*9)"
   ]
  },
  {
   "cell_type": "code",
   "execution_count": null,
   "metadata": {},
   "outputs": [
    {
     "name": "stdout",
     "output_type": "stream",
     "text": [
      "[(7, 0), (8, 1)]\n"
     ]
    },
    {
     "ename": "AttributeError",
     "evalue": "'GreedyAlg' object has no attribute 'uncovered'",
     "output_type": "error",
     "traceback": [
      "\u001b[1;31m---------------------------------------------------------------------------\u001b[0m",
      "\u001b[1;31mAttributeError\u001b[0m                            Traceback (most recent call last)",
      "Cell \u001b[1;32mIn[27], line 62\u001b[0m\n\u001b[0;32m     58\u001b[0m     gr \u001b[38;5;241m=\u001b[39m GreedyAlg(vertex)\n\u001b[0;32m     59\u001b[0m     \u001b[38;5;28mprint\u001b[39m(gr\u001b[38;5;241m.\u001b[39muncovered)\n\u001b[1;32m---> 62\u001b[0m \u001b[43mmain\u001b[49m\u001b[43m(\u001b[49m\u001b[43m)\u001b[49m\n",
      "Cell \u001b[1;32mIn[27], line 59\u001b[0m, in \u001b[0;36mmain\u001b[1;34m()\u001b[0m\n\u001b[0;32m     57\u001b[0m \u001b[38;5;28mprint\u001b[39m(vertex\u001b[38;5;241m.\u001b[39marr[\u001b[38;5;241m8\u001b[39m][\u001b[38;5;241m0\u001b[39m]\u001b[38;5;241m.\u001b[39madjacent)\n\u001b[0;32m     58\u001b[0m gr \u001b[38;5;241m=\u001b[39m GreedyAlg(vertex)\n\u001b[1;32m---> 59\u001b[0m \u001b[38;5;28mprint\u001b[39m(\u001b[43mgr\u001b[49m\u001b[38;5;241;43m.\u001b[39;49m\u001b[43muncovered\u001b[49m)\n",
      "\u001b[1;31mAttributeError\u001b[0m: 'GreedyAlg' object has no attribute 'uncovered'"
     ]
    }
   ],
   "source": [
    "class GreedyAlg():\n",
    "    def __init__(self, vertex):\n",
    "        self.vertex = vertex\n",
    "        self.cover_set = set()\n",
    "        self.source_set = set()\n",
    "        self.uncovered_set = for ar in arr\n",
    "    \n",
    "\n",
    "\n",
    "    def iterator(self):\n",
    "        return\n",
    "\n",
    "\n",
    "\n",
    "class Vertex():\n",
    "    def __init__(self, n = 9):\n",
    "        self.n = n\n",
    "        self.arr = self.generate_arr()\n",
    "        self.get_all_connections()\n",
    "\n",
    "    def generate_arr(self):\n",
    "        temp1_arr = []\n",
    "        for i in range(9):\n",
    "            temp2_arr = []\n",
    "            for j in range(9):\n",
    "                temp2_arr.append(Verticies(pos = (i,j)))\n",
    "            temp1_arr.append(temp2_arr)\n",
    "        return temp1_arr\n",
    "    \n",
    "    def get_all_connections(self):\n",
    "        for ver in self.arr:\n",
    "            for v in ver:\n",
    "                v.get_connections(self)\n",
    "\n",
    "\n",
    "class Verticies():\n",
    "    def __init__(self, pos):\n",
    "        self.pos = pos\n",
    "        self.adjacent = []\n",
    "    \n",
    "    def get_connections(self, ver):\n",
    "        i, j = self.pos\n",
    "        if i -1 >= 0:\n",
    "            self.adjacent.append(ver.arr[i-1][j])\n",
    "        if j-1 >= 0:\n",
    "            self.adjacent.append(ver.arr[i][j-1])\n",
    "        if i+1 < ver.n:\n",
    "            self.adjacent.append(ver.arr[i+1][j])\n",
    "        if j+1 < ver.n:\n",
    "            self.adjacent.append(ver.arr[i][j+1])\n",
    "    \n",
    "    def __repr__(self):\n",
    "        return str(self.pos)\n",
    "\n",
    "def main():\n",
    "    vertex = Vertex(n=9)\n",
    "    print(vertex.arr[8][0].adjacent)\n",
    "    gr = GreedyAlg(vertex)\n",
    "    print(gr.uncovered)\n",
    "    \n",
    "        \n",
    "main()\n"
   ]
  }
 ],
 "metadata": {
  "kernelspec": {
   "display_name": "Python 3",
   "language": "python",
   "name": "python3"
  },
  "language_info": {
   "codemirror_mode": {
    "name": "ipython",
    "version": 3
   },
   "file_extension": ".py",
   "mimetype": "text/x-python",
   "name": "python",
   "nbconvert_exporter": "python",
   "pygments_lexer": "ipython3",
   "version": "3.12.0"
  }
 },
 "nbformat": 4,
 "nbformat_minor": 2
}
